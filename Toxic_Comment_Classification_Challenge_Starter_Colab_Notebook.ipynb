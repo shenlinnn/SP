{
  "nbformat": 4,
  "nbformat_minor": 0,
  "metadata": {
    "colab": {
      "name": "Toxic Comment Classification Challenge: Starter Colab Notebook",
      "version": "0.3.2",
      "provenance": [],
      "include_colab_link": true
    },
    "kernelspec": {
      "name": "python3",
      "display_name": "Python 3"
    }
  },
  "cells": [
    {
      "cell_type": "markdown",
      "metadata": {
        "id": "view-in-github",
        "colab_type": "text"
      },
      "source": [
        "<a href=\"https://colab.research.google.com/github/shenlinnn/SP/blob/master/Toxic_Comment_Classification_Challenge_Starter_Colab_Notebook.ipynb\" target=\"_parent\"><img src=\"https://colab.research.google.com/assets/colab-badge.svg\" alt=\"Open In Colab\"/></a>"
      ]
    },
    {
      "metadata": {
        "id": "SXgAs6uoQ_Zv",
        "colab_type": "text"
      },
      "cell_type": "markdown",
      "source": [
        "# Toxic Comment Classification Challenge: Starter Colab Notebook\n",
        "\n",
        "leduykhanh@\n",
        "\n",
        "Short Link: **tiny.cc/mlcc-toxic-starter-colab**\n",
        "\n",
        "Kaggle challenge: https://www.kaggle.com/c/jigsaw-toxic-comment-classification-challenge\n"
      ]
    },
    {
      "metadata": {
        "id": "qk9gV1cTdOST",
        "colab_type": "toc"
      },
      "cell_type": "markdown",
      "source": [
        ">[Toxic Comment Classification Challenge: Starter Colab Notebook](#scrollTo=SXgAs6uoQ_Zv)\n",
        "\n",
        ">>[Import the dataset](#scrollTo=pdQHcSnWdM4b)\n",
        "\n",
        ">>[Input and Label](#scrollTo=rkGUNgjocwKi)\n",
        "\n",
        ">>[Train/Validation Split](#scrollTo=qaUp1VaFek9e)\n",
        "\n",
        ">>[Train a model](#scrollTo=7C1075_ce57W)\n",
        "\n",
        ">>[References](#scrollTo=7C1075_ce57W)\n",
        "\n"
      ]
    },
    {
      "metadata": {
        "id": "pdQHcSnWdM4b",
        "colab_type": "text"
      },
      "cell_type": "markdown",
      "source": [
        "## Import the dataset"
      ]
    },
    {
      "metadata": {
        "id": "7SQ1l8HxbVz_",
        "colab_type": "code",
        "colab": {}
      },
      "cell_type": "code",
      "source": [
        "# Original data belongs to https://www.kaggle.com/c/jigsaw-toxic-comment-classification-challenge/data\n",
        "! wget https://www.dropbox.com/s/ggl9krhh6dcwhhz/train.csv"
      ],
      "execution_count": 0,
      "outputs": []
    },
    {
      "metadata": {
        "id": "vqwWWvBDbZXd",
        "colab_type": "code",
        "colab": {}
      },
      "cell_type": "code",
      "source": [
        "! ls -ls train.csv"
      ],
      "execution_count": 0,
      "outputs": []
    },
    {
      "metadata": {
        "id": "N0LKJvVxaVFN",
        "colab_type": "code",
        "colab": {}
      },
      "cell_type": "code",
      "source": [
        "import pandas as pd\n",
        "data = pd.read_csv(\"train.csv\")\n",
        "  "
      ],
      "execution_count": 0,
      "outputs": []
    },
    {
      "metadata": {
        "id": "rkGUNgjocwKi",
        "colab_type": "text"
      },
      "cell_type": "markdown",
      "source": [
        "## Input and Label\n",
        "\n",
        "Input: \"comment_text\"\n",
        "\n",
        "Label: \"toxic\""
      ]
    },
    {
      "metadata": {
        "id": "3DnLDkCvc6dD",
        "colab_type": "code",
        "colab": {}
      },
      "cell_type": "code",
      "source": [
        "dataset = data[ [\"comment_text\", \"toxic\"] ]"
      ],
      "execution_count": 0,
      "outputs": []
    },
    {
      "metadata": {
        "id": "qaUp1VaFek9e",
        "colab_type": "text"
      },
      "cell_type": "markdown",
      "source": [
        "## Train/Validation Split"
      ]
    },
    {
      "metadata": {
        "id": "aEwymYMaekAN",
        "colab_type": "code",
        "colab": {}
      },
      "cell_type": "code",
      "source": [
        "# Train / validation split\n",
        "dataset = dataset.sample(frac=1)\n",
        "train_dataset = dataset.head(int(0.8 * len(dataset)))\n",
        "validation_dataset = dataset.tail(int(0.2 * len(dataset)))"
      ],
      "execution_count": 0,
      "outputs": []
    },
    {
      "metadata": {
        "id": "o27OBcIQd7Lj",
        "colab_type": "code",
        "colab": {}
      },
      "cell_type": "code",
      "source": [
        "print(len(dataset))\n",
        "print(len(train_dataset))\n",
        "print(len(validation_dataset))"
      ],
      "execution_count": 0,
      "outputs": []
    },
    {
      "metadata": {
        "id": "HGoyuOf4bdhe",
        "colab_type": "code",
        "colab": {}
      },
      "cell_type": "code",
      "source": [
        "train_dataset.describe()"
      ],
      "execution_count": 0,
      "outputs": []
    },
    {
      "metadata": {
        "id": "jWUE2ZWRebgd",
        "colab_type": "code",
        "colab": {}
      },
      "cell_type": "code",
      "source": [
        "validation_dataset.describe()"
      ],
      "execution_count": 0,
      "outputs": []
    },
    {
      "metadata": {
        "id": "ezvzFtZ2efUk",
        "colab_type": "code",
        "colab": {}
      },
      "cell_type": "code",
      "source": [
        "train_dataset.head(10)"
      ],
      "execution_count": 0,
      "outputs": []
    },
    {
      "metadata": {
        "id": "3h8PVnjwdD76",
        "colab_type": "code",
        "colab": {}
      },
      "cell_type": "code",
      "source": [
        "validation_dataset.head(10)"
      ],
      "execution_count": 0,
      "outputs": []
    },
    {
      "metadata": {
        "id": "7C1075_ce57W",
        "colab_type": "text"
      },
      "cell_type": "markdown",
      "source": [
        "## Train a model\n",
        "\n",
        "Your model's code start here. All the best :)\n",
        "\n",
        "\n",
        "\n",
        "## References\n",
        "\n",
        "* Text classification using tf.keras https://www.tensorflow.org/tutorials/keras/basic_text_classification\n",
        "\n",
        "* How to build a simple text classifier with TF-Hub https://www.tensorflow.org/tutorials/text_classification_with_tf_hub\n",
        "\n",
        "* Text Classification Tutorial using Tensorflow: https://mohammadkhalifa.github.io/Step-by-Step-Text-Classification-Tutorial-using-Tensorflow/\n",
        "  * Feature-engineering methods for text classification https://towardsdatascience.com/understanding-feature-engineering-part-3-traditional-methods-for-text-data-f6f7d70acd41\n",
        "\n",
        "\n",
        "* Tensorflow Estimator API: https://www.tensorflow.org/tutorials/recurrent\n",
        "\n",
        "* Using pre-trained word embeddings in a Keras model https://blog.keras.io/using-pre-trained-word-embeddings-in-a-keras-model.html\n",
        "\n",
        "* Text Classification with TensorFlow Estimators http://ruder.io/text-classification-tensorflow-estimators/\n",
        "\n",
        "* Scikit-Learns NLP documentation: http://scikit-learn.org/stable/tutorial/text_analytics/working_with_text_data.html\n",
        "\n",
        "* [Review on  Kaggle Toxic Comment Classification Challenge](https://medium.com/the-artificial-impostor/review-kaggle-toxic-comment-classification-challenge-part-1-934447339309)\n"
      ]
    }
  ]
}